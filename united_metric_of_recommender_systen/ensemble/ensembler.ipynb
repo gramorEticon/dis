{
 "cells": [
  {
   "cell_type": "code",
   "execution_count": 1,
   "outputs": [],
   "source": [
    "from surprise import Dataset, Reader, SVD, KNNBasic, NMF, SlopeOne\n",
    "from surprise.model_selection import train_test_split\n",
    "from surprise import accuracy\n",
    "from surprise import KNNBasic, SVD, NMF\n",
    "import numpy as np\n",
    "\n",
    "data = Dataset.load_builtin(\"ml-100k\")"
   ],
   "metadata": {
    "collapsed": false
   }
  },
  {
   "cell_type": "code",
   "execution_count": 2,
   "outputs": [],
   "source": [
    "trainset, testset = train_test_split(data, test_size=0.25)"
   ],
   "metadata": {
    "collapsed": false
   }
  },
  {
   "cell_type": "code",
   "execution_count": 3,
   "outputs": [
    {
     "name": "stdout",
     "output_type": "stream",
     "text": [
      "Computing the msd similarity matrix...\n",
      "Done computing similarity matrix.\n"
     ]
    },
    {
     "data": {
      "text/plain": "<surprise.prediction_algorithms.slope_one.SlopeOne at 0x104bd28d0>"
     },
     "execution_count": 3,
     "metadata": {},
     "output_type": "execute_result"
    }
   ],
   "source": [
    "svd = SVD()\n",
    "knn = KNNBasic()\n",
    "nmf = NMF()\n",
    "slop = SlopeOne()\n",
    "\n",
    "# Обучение моделей\n",
    "svd.fit(trainset)\n",
    "knn.fit(trainset)\n",
    "nmf.fit(trainset)\n",
    "slop.fit(trainset)"
   ],
   "metadata": {
    "collapsed": false
   }
  },
  {
   "cell_type": "code",
   "execution_count": 4,
   "outputs": [],
   "source": [
    "svd_predictions = svd.test(testset)\n",
    "knn_predictions = knn.test(testset)\n",
    "nmf_predictions = nmf.test(testset)\n",
    "slop_predictions = slop.test(testset)"
   ],
   "metadata": {
    "collapsed": false
   }
  },
  {
   "cell_type": "code",
   "execution_count": 5,
   "outputs": [],
   "source": [
    "from surprise import Prediction\n",
    "def average_predictions(predictions_list):\n",
    "    aggregated_predictions = []\n",
    "\n",
    "    num_predictions = len(predictions_list[0])\n",
    "\n",
    "    for i in range(num_predictions):\n",
    "        # Сбор предсказаний для каждого user-item пары\n",
    "        pred_ratings = [pred[i].est for pred in predictions_list]\n",
    "        avg_rating = np.mean(pred_ratings)\n",
    "\n",
    "        # Создаем новый объект Prediction\n",
    "        aggregated_predictions.append(Prediction(\n",
    "            uid=predictions_list[0][i].uid,\n",
    "            iid=predictions_list[0][i].iid,\n",
    "            r_ui=predictions_list[0][i].r_ui,\n",
    "            est=avg_rating,\n",
    "            details={}  # Параметр details можно оставить пустым\n",
    "        ))\n",
    "\n",
    "    return aggregated_predictions\n",
    "\n",
    "aggregated_predictions = average_predictions([svd_predictions, knn_predictions, nmf_predictions, slop_predictions])\n"
   ],
   "metadata": {
    "collapsed": false
   }
  },
  {
   "cell_type": "code",
   "execution_count": 6,
   "outputs": [
    {
     "name": "stdout",
     "output_type": "stream",
     "text": [
      "user: 472        item: 426        r_ui = 4.00   est = 3.66   {}\n",
      "user: 472        item: 426        r_ui = 4.00   est = 3.92   {'was_impossible': False}\n",
      "user: 472        item: 426        r_ui = 4.00   est = 2.99   {'actual_k': 22, 'was_impossible': False}\n",
      "user: 472        item: 426        r_ui = 4.00   est = 3.89   {'was_impossible': False}\n",
      "user: 472        item: 426        r_ui = 4.00   est = 3.84   {'was_impossible': False}\n"
     ]
    }
   ],
   "source": [
    "print(aggregated_predictions[1])\n",
    "print(svd_predictions[1])\n",
    "print(knn_predictions[1])\n",
    "print(nmf_predictions[1])\n",
    "print(slop_predictions[1])"
   ],
   "metadata": {
    "collapsed": false
   }
  },
  {
   "cell_type": "code",
   "execution_count": 7,
   "outputs": [
    {
     "name": "stdout",
     "output_type": "stream",
     "text": [
      "RMSE: 0.9409\n",
      "RMSE: 0.9452\n",
      "RMSE: 0.9890\n",
      "RMSE: 0.9760\n",
      "RMSE: 0.9534\n"
     ]
    },
    {
     "data": {
      "text/plain": "0.9534177925198085"
     },
     "execution_count": 7,
     "metadata": {},
     "output_type": "execute_result"
    }
   ],
   "source": [
    "accuracy.rmse(aggregated_predictions)\n",
    "accuracy.rmse(svd_predictions)\n",
    "accuracy.rmse(knn_predictions)\n",
    "accuracy.rmse(nmf_predictions)\n",
    "accuracy.rmse(slop_predictions)"
   ],
   "metadata": {
    "collapsed": false
   }
  },
  {
   "cell_type": "code",
   "execution_count": 8,
   "outputs": [
    {
     "name": "stdout",
     "output_type": "stream",
     "text": [
      "FCP:  0.7037\n",
      "0.7037294095286939\n",
      "FCP:  0.6944\n",
      "0.6944009390976165\n",
      "FCP:  0.7048\n",
      "0.7047575073975367\n",
      "FCP:  0.6823\n",
      "0.6823116663482497\n"
     ]
    }
   ],
   "source": [
    "print(accuracy.fcp(aggregated_predictions))\n",
    "print(accuracy.fcp(svd_predictions))\n",
    "print(accuracy.fcp(knn_predictions))\n",
    "print(accuracy.fcp(nmf_predictions))"
   ],
   "metadata": {
    "collapsed": false
   }
  },
  {
   "cell_type": "code",
   "execution_count": 6,
   "outputs": [
    {
     "name": "stdout",
     "output_type": "stream",
     "text": [
      "Computing the msd similarity matrix...\n",
      "Done computing similarity matrix.\n",
      "Computing the msd similarity matrix...\n",
      "Done computing similarity matrix.\n",
      "Computing the msd similarity matrix...\n",
      "Done computing similarity matrix.\n",
      "Computing the msd similarity matrix...\n",
      "Done computing similarity matrix.\n",
      "Computing the msd similarity matrix...\n",
      "Done computing similarity matrix.\n"
     ]
    }
   ],
   "source": [
    "import pandas as pd\n",
    "from surprise import Dataset, Reader\n",
    "from surprise.model_selection import train_test_split, KFold\n",
    "from surprise import SVD, KNNBasic, NMF\n",
    "from surprise import accuracy\n",
    "from sklearn.linear_model import LinearRegression\n",
    "import numpy as np\n",
    "\n",
    "# Загрузка данных MovieLens\n",
    "data = Dataset.load_builtin('ml-100k')\n",
    "\n",
    "# Разделение данных на тренировочные и тестовые с помощью KFold\n",
    "kf = KFold(n_splits=5)\n",
    "\n",
    "# Инициализация моделей\n",
    "svd = SVD()\n",
    "knn = KNNBasic()\n",
    "nmf = NMF()\n",
    "\n",
    "# Создаем массивы для хранения признаков (предсказаний) и целевых значений\n",
    "X_meta = []\n",
    "y_meta = []\n",
    "\n",
    "# Для хранения RMSE каждого алгоритма по fold'ам\n",
    "rmse_svd = []\n",
    "rmse_knn = []\n",
    "rmse_nmf = []\n",
    "\n",
    "# Кросс-валидация с использованием Surprise KFold\n",
    "for trainset, testset in kf.split(data):\n",
    "    # Обучение базовых моделей\n",
    "    svd.fit(trainset)\n",
    "    knn.fit(trainset)\n",
    "    nmf.fit(trainset)\n",
    "\n",
    "    # Получение предсказаний от каждой модели\n",
    "    svd_preds = svd.test(testset)\n",
    "    knn_preds = knn.test(testset)\n",
    "    nmf_preds = nmf.test(testset)\n",
    "\n",
    "    # Оценка RMSE каждой модели на текущем fold\n",
    "    rmse_svd.append(accuracy.rmse(svd_preds, verbose=False))\n",
    "    rmse_knn.append(accuracy.rmse(knn_preds, verbose=False))\n",
    "    rmse_nmf.append(accuracy.rmse(nmf_preds, verbose=False))\n",
    "\n",
    "    # Преобразуем предсказания в DataFrame\n",
    "    def predictions_to_df(predictions):\n",
    "        user_ids = [pred.uid for pred in predictions]\n",
    "        item_ids = [pred.iid for pred in predictions]\n",
    "        true_ratings = [pred.r_ui for pred in predictions]\n",
    "        estimated_ratings = [pred.est for pred in predictions]\n",
    "        return pd.DataFrame({'user_id': user_ids, 'item_id': item_ids, 'true_rating': true_ratings, 'est_rating': estimated_ratings})\n",
    "\n",
    "    df_svd = predictions_to_df(svd_preds)\n",
    "    df_knn = predictions_to_df(knn_preds)\n",
    "    df_nmf = predictions_to_df(nmf_preds)\n",
    "\n",
    "    # Собираем предсказания в единый DataFrame\n",
    "    ensemble_df = pd.DataFrame({\n",
    "        'user_id': df_svd['user_id'],\n",
    "        'item_id': df_svd['item_id'],\n",
    "        'true_rating': df_svd['true_rating'],\n",
    "        'svd_pred': df_svd['est_rating'],\n",
    "        'knn_pred': df_knn['est_rating'],\n",
    "        'nmf_pred': df_nmf['est_rating']\n",
    "    })\n",
    "\n",
    "    # Добавляем предсказания в матрицу признаков X и целевые значения y\n",
    "    X_meta.extend(ensemble_df[['svd_pred', 'knn_pred', 'nmf_pred']].values)\n",
    "    y_meta.extend(ensemble_df['true_rating'].values)"
   ],
   "metadata": {
    "collapsed": false
   }
  },
  {
   "cell_type": "code",
   "execution_count": 7,
   "outputs": [],
   "source": [
    "from pandas import DataFrame\n",
    "\n",
    "X_meta = DataFrame(X_meta)\n",
    "y_meta = DataFrame(y_meta)\n"
   ],
   "metadata": {
    "collapsed": false
   }
  },
  {
   "cell_type": "code",
   "execution_count": null,
   "outputs": [],
   "source": [],
   "metadata": {
    "collapsed": false
   }
  },
  {
   "cell_type": "code",
   "execution_count": null,
   "outputs": [
    {
     "name": "stderr",
     "output_type": "stream",
     "text": [
      "/Users/romankulshin/PycharmProjects/dis/venv/lib/python3.11/site-packages/sklearn/utils/validation.py:1339: DataConversionWarning: A column-vector y was passed when a 1d array was expected. Please change the shape of y to (n_samples, ), for example using ravel().\n",
      "  y = column_or_1d(y, warn=True)\n"
     ]
    },
    {
     "name": "stdout",
     "output_type": "stream",
     "text": [
      "[LightGBM] [Info] Auto-choosing row-wise multi-threading, the overhead of testing was 0.000960 seconds.\n",
      "You can set `force_row_wise=true` to remove the overhead.\n",
      "And if memory is not enough, you can set `force_col_wise=true`.\n",
      "[LightGBM] [Info] Total Bins 765\n",
      "[LightGBM] [Info] Number of data points in the train set: 100000, number of used features: 3\n",
      "[LightGBM] [Info] Start training from score 3.529860\n"
     ]
    }
   ],
   "source": [
    "from lightgbm import LGBMRegressor\n",
    "# Преобразуем списки в массивы numpy\n",
    "X_meta = np.array(X_meta)\n",
    "y_meta = np.array(y_meta)\n",
    "\n",
    "# Обучаем метамодель на предсказаниях базовых моделей\n",
    "meta_model = LinearRegression()\n",
    "meta_light = LGBMRegressor()\n",
    "\n",
    "meta_model.fit(X_meta, y_meta)\n",
    "meta_light.fit(X_meta, y_meta)\n",
    "\n",
    "# Тестируем метамодель на тестовой выборке\n",
    "y_pred_meta = meta_model.predict(X_meta)\n",
    "y_pred_meta_light = meta_light.predict(X_meta)\n",
    "\n",
    "# Оценка RMSE метамодели\n",
    "final_rmse_meta = np.sqrt(((y_pred_meta - y_meta) ** 2).mean())\n",
    "final_rmse_light = np.sqrt(((y_pred_meta_light - y_meta) ** 2).mean())\n",
    "\n",
    "# Вывод результатов\n",
    "print(\"Сравнение RMSE:\")\n",
    "print(f\"Средний RMSE SVD: {np.mean(rmse_svd):.4f}\")\n",
    "print(f\"Средний RMSE KNN: {np.mean(rmse_knn):.4f}\")\n",
    "print(f\"Средний RMSE NMF: {np.mean(rmse_nmf):.4f}\")\n",
    "print(f\"RMSE метамодели LogReg: {final_rmse_meta:.4f}\")\n",
    "print(f\"RMSE метамодели LightGBM: {final_rmse_light:.4f}\")\n"
   ],
   "metadata": {
    "collapsed": false,
    "pycharm": {
     "is_executing": true
    }
   }
  },
  {
   "cell_type": "code",
   "execution_count": null,
   "outputs": [],
   "source": [],
   "metadata": {
    "collapsed": false
   }
  }
 ],
 "metadata": {
  "kernelspec": {
   "display_name": "Python 3",
   "language": "python",
   "name": "python3"
  },
  "language_info": {
   "codemirror_mode": {
    "name": "ipython",
    "version": 2
   },
   "file_extension": ".py",
   "mimetype": "text/x-python",
   "name": "python",
   "nbconvert_exporter": "python",
   "pygments_lexer": "ipython2",
   "version": "2.7.6"
  }
 },
 "nbformat": 4,
 "nbformat_minor": 0
}
